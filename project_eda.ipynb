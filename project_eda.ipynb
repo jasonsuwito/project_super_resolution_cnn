{
 "cells": [
  {
   "cell_type": "markdown",
   "id": "da80b236",
   "metadata": {},
   "source": [
    "Import Library"
   ]
  },
  {
   "cell_type": "code",
   "execution_count": 3,
   "id": "671d1701",
   "metadata": {},
   "outputs": [],
   "source": [
    "import os\n",
    "import sys\n",
    "sys.path.append(os.path.join(os.getcwd(), \"SwinIR\")) # setting directory to ensure it recognizes the SwinIR github folder"
   ]
  },
  {
   "cell_type": "code",
   "execution_count": 4,
   "id": "2751d20a",
   "metadata": {},
   "outputs": [],
   "source": [
    "import torch\n",
    "import random\n",
    "import shutil\n",
    "from PIL import Image\n",
    "\n",
    "from basicsr.archs.swinir_arch import SwinIR # if this throws an error, try re running block 1 again\n",
    "import torch.nn.functional as F\n",
    "\n",
    "from torchvision import transforms, datasets"
   ]
  },
  {
   "cell_type": "markdown",
   "id": "c5873d77",
   "metadata": {},
   "source": [
    "Transform"
   ]
  },
  {
   "cell_type": "code",
   "execution_count": 5,
   "id": "1ba3320c",
   "metadata": {},
   "outputs": [],
   "source": [
    "transform = transforms.Compose([\n",
    "    transforms.Resize((224, 224)), # resize image to 224 x 224\n",
    "    transforms.ToTensor(), # convert image to tensor [0, 1]\n",
    "    transforms.Normalize(mean=[0.5]*3, std=[0.5]*3) # normalize to [-1, 1] for CNN\n",
    "])"
   ]
  },
  {
   "cell_type": "markdown",
   "id": "42cb6f53",
   "metadata": {},
   "source": [
    "Load Full Dataset"
   ]
  },
  {
   "cell_type": "code",
   "execution_count": 6,
   "id": "57ff8377",
   "metadata": {},
   "outputs": [
    {
     "name": "stdout",
     "output_type": "stream",
     "text": [
      "Class to index mapping: {'COVID': 0, 'Normal': 1, 'Viral Pneumonia': 2}\n"
     ]
    },
    {
     "data": {
      "text/plain": [
       "15153"
      ]
     },
     "execution_count": 6,
     "metadata": {},
     "output_type": "execute_result"
    }
   ],
   "source": [
    "full_dataset = datasets.ImageFolder(\n",
    "    root=\"data\",\n",
    "    transform=transform\n",
    ")\n",
    "print(\"Class to index mapping:\", full_dataset.class_to_idx)\n",
    "len(full_dataset)"
   ]
  },
  {
   "cell_type": "markdown",
   "id": "4a1b8852",
   "metadata": {},
   "source": [
    "Sample the images"
   ]
  },
  {
   "cell_type": "code",
   "execution_count": 7,
   "id": "4eee1b3a",
   "metadata": {},
   "outputs": [
    {
     "name": "stdout",
     "output_type": "stream",
     "text": [
      "Subset of 500 images completed. Saved to data_subset\n"
     ]
    }
   ],
   "source": [
    "input_directory = \"data\"\n",
    "output_directory = \"data_subset\"\n",
    "subset_size = 500\n",
    "\n",
    "if os.path.exists(output_directory): # if the output directory exist, override it\n",
    "    shutil.rmtree(output_directory)\n",
    "os.makedirs(output_directory)\n",
    "\n",
    "all_images = []\n",
    "\n",
    "for i in os.listdir(input_directory): # for every classes folder (COVID, Normal, Viral Pneumonia)\n",
    "    class_path = os.path.join(input_directory, i) # combine into one directory: the root directory with the class directory\n",
    "    if not os.path.isdir(class_path): # if it's not a directory, pass\n",
    "        continue\n",
    "\n",
    "    for j in os.listdir(class_path): # for every file in the classes folder\n",
    "        if j.lower().endswith(('.jpg', '.jpeg', '.png')): # if the file is an image\n",
    "            full_path = os.path.join(class_path, j) # combine into one directory: the full class directory and the image directory\n",
    "            all_images.append((full_path, i)) # append to all_images list\n",
    "\n",
    "sampled_images = random.sample(all_images, subset_size) # random sample x images from the list\n",
    "\n",
    "for path, class_name in sampled_images:\n",
    "    destination_folder = os.path.join(output_directory, class_name) # new directory path\n",
    "    os.makedirs(destination_folder, exist_ok=True) # make the directory\n",
    "    shutil.copy(path, os.path.join(destination_folder, os.path.basename(path))) # copy the file from the original input_directory into the output_directory\n",
    "\n",
    "print(f\"Subset of {subset_size} images completed. Saved to {output_directory}\")"
   ]
  },
  {
   "cell_type": "markdown",
   "id": "a3f53d48",
   "metadata": {},
   "source": [
    "Downsampling (reduce resolution) Images"
   ]
  },
  {
   "cell_type": "code",
   "execution_count": 8,
   "id": "ea70747e",
   "metadata": {},
   "outputs": [
    {
     "name": "stdout",
     "output_type": "stream",
     "text": [
      "Downsampling complete. Saved to 'data_subset_lowres'\n"
     ]
    }
   ],
   "source": [
    "input_directory = \"data_subset\"\n",
    "output_directory = \"data_subset_lowres\"\n",
    "target_size = (56, 56)\n",
    "\n",
    "for i in os.listdir(input_directory): # for every classes folder (COVID, Normal, Viral Pneumonia)\n",
    "    class_path = os.path.join(input_directory, i) # identify the current path\n",
    "    destination_path = os.path.join(output_directory, i) # identify the destination path\n",
    "    \n",
    "    if not os.path.isdir(class_path): # if it is not a path, pass\n",
    "        continue\n",
    "    \n",
    "    if os.path.exists(destination_path): # if the destination path already existed, override its content\n",
    "        shutil.rmtree(destination_path) \n",
    "    os.makedirs(destination_path) # make the directory\n",
    "\n",
    "    for j in os.listdir(class_path): # for every file in the classes folder\n",
    "        if not j.endswith('.jpg') and not j.endswith('.png'): # if the file is not an image, pass\n",
    "            continue\n",
    "\n",
    "        image_path = os.path.join(class_path, j) # create a new path\n",
    "        image = Image.open(image_path).convert(\"RGB\") # open the image file and store it as image variable\n",
    "        image = image.resize(target_size, resample=Image.BICUBIC) # resize\n",
    "        image.save(os.path.join(destination_path, j)) # save the image\n",
    "\n",
    "print(\"Downsampling complete. Saved to 'data_subset_lowres'\")"
   ]
  },
  {
   "cell_type": "markdown",
   "id": "a66e3057",
   "metadata": {},
   "source": [
    "SwinIR Image Super Resolution"
   ]
  },
  {
   "cell_type": "code",
   "execution_count": 9,
   "id": "ed3e2a5e",
   "metadata": {},
   "outputs": [
    {
     "name": "stderr",
     "output_type": "stream",
     "text": [
      "/opt/anaconda3/lib/python3.12/site-packages/torch/functional.py:512: UserWarning: torch.meshgrid: in an upcoming release, it will be required to pass the indexing argument. (Triggered internally at /private/var/folders/k1/30mswbxs7r1g6zwn8y4fyt500000gp/T/abs_e2rjusv8ek/croot/pytorch-select_1717607459930/work/aten/src/ATen/native/TensorShape.cpp:3588.)\n",
      "  return _VF.meshgrid(tensors, **kwargs)  # type: ignore[attr-defined]\n"
     ]
    },
    {
     "name": "stdout",
     "output_type": "stream",
     "text": [
      "SwinIR complete. Saved to 'data_subset_swinir'\n"
     ]
    }
   ],
   "source": [
    "#device = torch.device(\"cuda\" if torch.cuda.is_available() else \"cpu\")\n",
    "device = torch.device(\"mps\" if torch.backends.mps.is_available() else \"cpu\") # trying mps since I'm using a mac\n",
    "\n",
    "swinir_model = SwinIR(\n",
    "    upscale=4, # we want to upscale 4 times (from downscaled 56x56 to the original 224x224)\n",
    "    in_chans=3, # default 3 channels for RGB\n",
    "    img_size=48, # based on paper\n",
    "    window_size=8, # based on paper\n",
    "    img_range=1.0, # pixel range of the images [0, 1]\n",
    "    depths=[6, 6, 6, 6, 6, 6], # according to the pretrained model github\n",
    "    embed_dim=180, # according to the pretrained model github\n",
    "    num_heads=[6, 6, 6, 6, 6, 6], # according to the pretrained model github\n",
    "    mlp_ratio=2, # default\n",
    "    upsampler='pixelshuffle', # default\n",
    "    resi_connection='1conv' # default\n",
    ")\n",
    "\n",
    "weights_path = \"SwinIR/model_zoo/001_classicalSR_DIV2K_s48w8_SwinIR-M_x4.pth\" # pretrain model weights\n",
    "checkpoint = torch.load(weights_path)\n",
    "swinir_model.load_state_dict(checkpoint['params'], strict=True)\n",
    "swinir_model.eval().to(device)\n",
    "\n",
    "to_tensor = transforms.ToTensor() # PIL to Tensor\n",
    "to_pil = transforms.ToPILImage() # Tensor to PIL\n",
    "\n",
    "input_directory = \"data_subset_lowres\"\n",
    "output_directory = \"data_subset_swinir\"\n",
    "window_size = 8 # required by SwinIR to be divisible by 8\n",
    "\n",
    "for i in os.listdir(input_directory): # for every classes folder (COVID, Normal, Viral Pneumonia)\n",
    "    class_path = os.path.join(input_directory, i) # identify the path\n",
    "    destination_path = os.path.join(output_directory, i) # identify the destination path\n",
    "\n",
    "    if not os.path.isdir(class_path): # if it's not a directory, pass\n",
    "        continue\n",
    "    \n",
    "    if os.path.exists(destination_path): # if the destination path already existed, override its content \n",
    "        shutil.rmtree(destination_path) \n",
    "    os.makedirs(destination_path) # make the directory\n",
    "\n",
    "    for j in os.listdir(class_path): # for every file in the classes folder\n",
    "        if not j.lower().endswith(('.jpg', '.png', '.jpeg')): # if it's not an image, pass\n",
    "            continue\n",
    "\n",
    "        image = Image.open(os.path.join(class_path, j)).convert(\"RGB\") # store the current image into a variable\n",
    "        image_tensor = to_tensor(image).unsqueeze(0).to(device)\n",
    "\n",
    "        # padding\n",
    "        _, _, h, w = image_tensor.size() \n",
    "        pad_h = (window_size - h % window_size) % window_size \n",
    "        pad_w = (window_size - w % window_size) % window_size\n",
    "        image_tensor = F.pad(image_tensor, (0, pad_w, 0, pad_h), mode='reflect')\n",
    "\n",
    "        with torch.no_grad():\n",
    "            sr_tensor = swinir_model(image_tensor).clamp(0, 1) # running swinir\n",
    "\n",
    "        swinir_image = to_pil(sr_tensor.squeeze(0).cpu())\n",
    "        swinir_image.save(os.path.join(destination_path, j))\n",
    "\n",
    "print(\"SwinIR complete. Saved to 'data_subset_swinir'\") # should take around 2.5 - 3.5 minutes."
   ]
  },
  {
   "cell_type": "code",
   "execution_count": null,
   "id": "5878a189",
   "metadata": {},
   "outputs": [],
   "source": []
  }
 ],
 "metadata": {
  "kernelspec": {
   "display_name": "base",
   "language": "python",
   "name": "python3"
  },
  "language_info": {
   "codemirror_mode": {
    "name": "ipython",
    "version": 3
   },
   "file_extension": ".py",
   "mimetype": "text/x-python",
   "name": "python",
   "nbconvert_exporter": "python",
   "pygments_lexer": "ipython3",
   "version": "3.12.2"
  }
 },
 "nbformat": 4,
 "nbformat_minor": 5
}
